{
  "nbformat": 4,
  "nbformat_minor": 0,
  "metadata": {
    "colab": {
      "name": "Sign_Language_Recognition_Model",
      "provenance": [],
      "authorship_tag": "ABX9TyOrSrWCz0Nya3XW7lEFbS3n",
      "include_colab_link": true
    },
    "kernelspec": {
      "name": "python3",
      "display_name": "Python 3"
    },
    "language_info": {
      "name": "python"
    }
  },
  "cells": [
    {
      "cell_type": "markdown",
      "metadata": {
        "id": "view-in-github",
        "colab_type": "text"
      },
      "source": [
        "<a href=\"https://colab.research.google.com/github/swapanjaliVeccProject/Sign-Language-Recognition-Neural-Network/blob/main/Sign_Language_Recognition_Model.ipynb\" target=\"_parent\"><img src=\"https://colab.research.google.com/assets/colab-badge.svg\" alt=\"Open In Colab\"/></a>"
      ]
    },
    {
      "cell_type": "code",
      "source": [
        "import pandas as pd\n",
        "import csv\n",
        "import os\n",
        "from sklearn.model_selection import train_test_split\n",
        "from sklearn.preprocessing import LabelBinarizer\n",
        "import tensorflow as tf\n",
        "from tensorflow import keras\n",
        "import numpy as np\n",
        "from sklearn.preprocessing import StandardScaler"
      ],
      "metadata": {
        "id": "-wrtEjaZ2yfc"
      },
      "execution_count": 1,
      "outputs": []
    },
    {
      "cell_type": "code",
      "execution_count": 2,
      "metadata": {
        "id": "d5_N4_BO2MjR"
      },
      "outputs": [],
      "source": [
        "df = pd.read_csv('/content/Angles_Images.csv')"
      ]
    },
    {
      "cell_type": "code",
      "source": [
        "df.head()"
      ],
      "metadata": {
        "colab": {
          "base_uri": "https://localhost:8080/",
          "height": 441
        },
        "id": "JSGWGgZQ2Xfj",
        "outputId": "51ae3ca9-0e17-41a9-d20f-09dbc6c87fe7"
      },
      "execution_count": 3,
      "outputs": [
        {
          "output_type": "execute_result",
          "data": {
            "text/plain": [
              "   /content/dataset5/A/m/color_12_0490.png  \\\n",
              "0  /content/dataset5/A/m/color_12_0471.png   \n",
              "1  /content/dataset5/A/m/color_12_0462.png   \n",
              "2  /content/dataset5/A/m/color_12_0078.png   \n",
              "3  /content/dataset5/A/m/color_12_0162.png   \n",
              "4  /content/dataset5/A/m/color_12_0420.png   \n",
              "\n",
              "  [103.0968, 162.7266, 81.4778, 158.4562, 21.0144, 52.0289, 88.0187, 59.6818, 154.4293, 52.0577, 72.9958, 60.1585, 158.965, 150.1172, 51.3453, 81.7398, 59.9544, 124.8669, 146.9061, 71.3615, 81.123, 144.6147, 148.941, 22.9086, 95.3377, 110.4374]  \n",
              "0  [140.6825, 138.6096, 82.5662, 134.6193, 49.545...                                                                                                                                                                                                  \n",
              "1  [110.3875, 156.0532, 77.7073, 153.8643, 21.529...                                                                                                                                                                                                  \n",
              "2  [111.6315, 161.0923, 86.5375, 166.9085, 25.583...                                                                                                                                                                                                  \n",
              "3  [92.5972, 151.9683, 73.5278, 159.4617, 18.3568...                                                                                                                                                                                                  \n",
              "4  [138.549, 148.9741, 85.1078, 140.7145, 57.3207...                                                                                                                                                                                                  "
            ],
            "text/html": [
              "\n",
              "  <div id=\"df-dd805f90-5fcc-4bcd-a3f1-dfd3c18717eb\">\n",
              "    <div class=\"colab-df-container\">\n",
              "      <div>\n",
              "<style scoped>\n",
              "    .dataframe tbody tr th:only-of-type {\n",
              "        vertical-align: middle;\n",
              "    }\n",
              "\n",
              "    .dataframe tbody tr th {\n",
              "        vertical-align: top;\n",
              "    }\n",
              "\n",
              "    .dataframe thead th {\n",
              "        text-align: right;\n",
              "    }\n",
              "</style>\n",
              "<table border=\"1\" class=\"dataframe\">\n",
              "  <thead>\n",
              "    <tr style=\"text-align: right;\">\n",
              "      <th></th>\n",
              "      <th>/content/dataset5/A/m/color_12_0490.png</th>\n",
              "      <th>[103.0968, 162.7266, 81.4778, 158.4562, 21.0144, 52.0289, 88.0187, 59.6818, 154.4293, 52.0577, 72.9958, 60.1585, 158.965, 150.1172, 51.3453, 81.7398, 59.9544, 124.8669, 146.9061, 71.3615, 81.123, 144.6147, 148.941, 22.9086, 95.3377, 110.4374]</th>\n",
              "    </tr>\n",
              "  </thead>\n",
              "  <tbody>\n",
              "    <tr>\n",
              "      <th>0</th>\n",
              "      <td>/content/dataset5/A/m/color_12_0471.png</td>\n",
              "      <td>[140.6825, 138.6096, 82.5662, 134.6193, 49.545...</td>\n",
              "    </tr>\n",
              "    <tr>\n",
              "      <th>1</th>\n",
              "      <td>/content/dataset5/A/m/color_12_0462.png</td>\n",
              "      <td>[110.3875, 156.0532, 77.7073, 153.8643, 21.529...</td>\n",
              "    </tr>\n",
              "    <tr>\n",
              "      <th>2</th>\n",
              "      <td>/content/dataset5/A/m/color_12_0078.png</td>\n",
              "      <td>[111.6315, 161.0923, 86.5375, 166.9085, 25.583...</td>\n",
              "    </tr>\n",
              "    <tr>\n",
              "      <th>3</th>\n",
              "      <td>/content/dataset5/A/m/color_12_0162.png</td>\n",
              "      <td>[92.5972, 151.9683, 73.5278, 159.4617, 18.3568...</td>\n",
              "    </tr>\n",
              "    <tr>\n",
              "      <th>4</th>\n",
              "      <td>/content/dataset5/A/m/color_12_0420.png</td>\n",
              "      <td>[138.549, 148.9741, 85.1078, 140.7145, 57.3207...</td>\n",
              "    </tr>\n",
              "  </tbody>\n",
              "</table>\n",
              "</div>\n",
              "      <button class=\"colab-df-convert\" onclick=\"convertToInteractive('df-dd805f90-5fcc-4bcd-a3f1-dfd3c18717eb')\"\n",
              "              title=\"Convert this dataframe to an interactive table.\"\n",
              "              style=\"display:none;\">\n",
              "        \n",
              "  <svg xmlns=\"http://www.w3.org/2000/svg\" height=\"24px\"viewBox=\"0 0 24 24\"\n",
              "       width=\"24px\">\n",
              "    <path d=\"M0 0h24v24H0V0z\" fill=\"none\"/>\n",
              "    <path d=\"M18.56 5.44l.94 2.06.94-2.06 2.06-.94-2.06-.94-.94-2.06-.94 2.06-2.06.94zm-11 1L8.5 8.5l.94-2.06 2.06-.94-2.06-.94L8.5 2.5l-.94 2.06-2.06.94zm10 10l.94 2.06.94-2.06 2.06-.94-2.06-.94-.94-2.06-.94 2.06-2.06.94z\"/><path d=\"M17.41 7.96l-1.37-1.37c-.4-.4-.92-.59-1.43-.59-.52 0-1.04.2-1.43.59L10.3 9.45l-7.72 7.72c-.78.78-.78 2.05 0 2.83L4 21.41c.39.39.9.59 1.41.59.51 0 1.02-.2 1.41-.59l7.78-7.78 2.81-2.81c.8-.78.8-2.07 0-2.86zM5.41 20L4 18.59l7.72-7.72 1.47 1.35L5.41 20z\"/>\n",
              "  </svg>\n",
              "      </button>\n",
              "      \n",
              "  <style>\n",
              "    .colab-df-container {\n",
              "      display:flex;\n",
              "      flex-wrap:wrap;\n",
              "      gap: 12px;\n",
              "    }\n",
              "\n",
              "    .colab-df-convert {\n",
              "      background-color: #E8F0FE;\n",
              "      border: none;\n",
              "      border-radius: 50%;\n",
              "      cursor: pointer;\n",
              "      display: none;\n",
              "      fill: #1967D2;\n",
              "      height: 32px;\n",
              "      padding: 0 0 0 0;\n",
              "      width: 32px;\n",
              "    }\n",
              "\n",
              "    .colab-df-convert:hover {\n",
              "      background-color: #E2EBFA;\n",
              "      box-shadow: 0px 1px 2px rgba(60, 64, 67, 0.3), 0px 1px 3px 1px rgba(60, 64, 67, 0.15);\n",
              "      fill: #174EA6;\n",
              "    }\n",
              "\n",
              "    [theme=dark] .colab-df-convert {\n",
              "      background-color: #3B4455;\n",
              "      fill: #D2E3FC;\n",
              "    }\n",
              "\n",
              "    [theme=dark] .colab-df-convert:hover {\n",
              "      background-color: #434B5C;\n",
              "      box-shadow: 0px 1px 3px 1px rgba(0, 0, 0, 0.15);\n",
              "      filter: drop-shadow(0px 1px 2px rgba(0, 0, 0, 0.3));\n",
              "      fill: #FFFFFF;\n",
              "    }\n",
              "  </style>\n",
              "\n",
              "      <script>\n",
              "        const buttonEl =\n",
              "          document.querySelector('#df-dd805f90-5fcc-4bcd-a3f1-dfd3c18717eb button.colab-df-convert');\n",
              "        buttonEl.style.display =\n",
              "          google.colab.kernel.accessAllowed ? 'block' : 'none';\n",
              "\n",
              "        async function convertToInteractive(key) {\n",
              "          const element = document.querySelector('#df-dd805f90-5fcc-4bcd-a3f1-dfd3c18717eb');\n",
              "          const dataTable =\n",
              "            await google.colab.kernel.invokeFunction('convertToInteractive',\n",
              "                                                     [key], {});\n",
              "          if (!dataTable) return;\n",
              "\n",
              "          const docLinkHtml = 'Like what you see? Visit the ' +\n",
              "            '<a target=\"_blank\" href=https://colab.research.google.com/notebooks/data_table.ipynb>data table notebook</a>'\n",
              "            + ' to learn more about interactive tables.';\n",
              "          element.innerHTML = '';\n",
              "          dataTable['output_type'] = 'display_data';\n",
              "          await google.colab.output.renderOutput(dataTable, element);\n",
              "          const docLink = document.createElement('div');\n",
              "          docLink.innerHTML = docLinkHtml;\n",
              "          element.appendChild(docLink);\n",
              "        }\n",
              "      </script>\n",
              "    </div>\n",
              "  </div>\n",
              "  "
            ]
          },
          "metadata": {},
          "execution_count": 3
        }
      ]
    },
    {
      "cell_type": "code",
      "source": [
        "text = 'abcdefghijklmnopqrstuvwxyz'\n",
        "dict_letter = {}\n",
        "for x in text:\n",
        "  r = ord(x) - 97\n",
        "  dict_letter[x] = r\n",
        "print(dict_letter)"
      ],
      "metadata": {
        "colab": {
          "base_uri": "https://localhost:8080/"
        },
        "id": "jAMegtDI2ZsK",
        "outputId": "588d747b-ea72-4bf0-d04a-a0a3235c48c2"
      },
      "execution_count": 4,
      "outputs": [
        {
          "output_type": "stream",
          "name": "stdout",
          "text": [
            "{'a': 0, 'b': 1, 'c': 2, 'd': 3, 'e': 4, 'f': 5, 'g': 6, 'h': 7, 'i': 8, 'j': 9, 'k': 10, 'l': 11, 'm': 12, 'n': 13, 'o': 14, 'p': 15, 'q': 16, 'r': 17, 's': 18, 't': 19, 'u': 20, 'v': 21, 'w': 22, 'x': 23, 'y': 24, 'z': 25}\n"
          ]
        }
      ]
    },
    {
      "cell_type": "code",
      "source": [
        "header = []\n",
        "for i in range(1,27):\n",
        "  s = 'angle_'+str(i)\n",
        "  header.append(s)\n",
        "header.append('letter_index')\n",
        "print(header)"
      ],
      "metadata": {
        "colab": {
          "base_uri": "https://localhost:8080/"
        },
        "id": "j9lickEL2Zpq",
        "outputId": "887528a0-e5fc-4d52-83aa-af5cd7fda642"
      },
      "execution_count": 5,
      "outputs": [
        {
          "output_type": "stream",
          "name": "stdout",
          "text": [
            "['angle_1', 'angle_2', 'angle_3', 'angle_4', 'angle_5', 'angle_6', 'angle_7', 'angle_8', 'angle_9', 'angle_10', 'angle_11', 'angle_12', 'angle_13', 'angle_14', 'angle_15', 'angle_16', 'angle_17', 'angle_18', 'angle_19', 'angle_20', 'angle_21', 'angle_22', 'angle_23', 'angle_24', 'angle_25', 'angle_26', 'letter_index']\n"
          ]
        }
      ]
    },
    {
      "cell_type": "code",
      "source": [
        "path = '/content/Angles_Letter_Indexed.csv'\n",
        "\n",
        "if os.path.exists(path):\n",
        "  os.remove(path)\n",
        "else:\n",
        "  with open('Angles_Letter_Indexed.csv','a') as f:\n",
        "    write = csv.writer(f)\n",
        "    write.writerow(header)"
      ],
      "metadata": {
        "id": "uvaKbyqm2Zmz"
      },
      "execution_count": 6,
      "outputs": []
    },
    {
      "cell_type": "code",
      "source": [
        "for i in range(len(df)):\n",
        "  angles = df.iloc[i,1]\n",
        "  name = df.iloc[i,0][20]\n",
        "  res = angles.strip('][').split(', ')\n",
        "  for j in range(len(res)):\n",
        "    res[j] = float(res[j])\n",
        "  res.append(dict_letter[name])\n",
        "  # final_list = [res,dict_letter[name]]\n",
        "  # print(final_list)\n",
        "\n",
        "  with open('Angles_Letter_Indexed.csv','a') as f:\n",
        "    write = csv.writer(f)\n",
        "    write.writerow(res)"
      ],
      "metadata": {
        "id": "BushuH6d2Zki"
      },
      "execution_count": 7,
      "outputs": []
    },
    {
      "cell_type": "code",
      "source": [
        "df1 = pd.read_csv('/content/Angles_Letter_Indexed.csv')"
      ],
      "metadata": {
        "id": "sefqYu0Y2Zh6"
      },
      "execution_count": 8,
      "outputs": []
    },
    {
      "cell_type": "code",
      "source": [
        "df1.head()"
      ],
      "metadata": {
        "colab": {
          "base_uri": "https://localhost:8080/",
          "height": 300
        },
        "id": "BfY7pUcH2Zfa",
        "outputId": "7f3fa7c5-dd47-4a52-b9bb-6a5445be3d0d"
      },
      "execution_count": 9,
      "outputs": [
        {
          "output_type": "execute_result",
          "data": {
            "text/plain": [
              "    angle_1   angle_2  angle_3   angle_4  angle_5  angle_6   angle_7  angle_8  \\\n",
              "0  140.6825  138.6096  82.5662  134.6193  49.5453  54.1041  103.6704  70.5126   \n",
              "1  110.3875  156.0532  77.7073  153.8643  21.5293  43.6715   90.5790  61.4209   \n",
              "2  111.6315  161.0923  86.5375  166.9085  25.5835  60.9043   82.4694  58.3139   \n",
              "3   92.5972  151.9683  73.5278  159.4617  18.3568  52.0441   84.1361  62.8711   \n",
              "4  138.5490  148.9741  85.1078  140.7145  57.3207  64.9777   94.1715  64.6605   \n",
              "\n",
              "    angle_9  angle_10  ...  angle_18  angle_19  angle_20  angle_21  angle_22  \\\n",
              "0  143.0883   39.2620  ...   96.6114  145.5212   70.0778   72.6412  147.0387   \n",
              "1  157.0069   54.6405  ...  118.7182  154.1008   70.0738   72.7123  152.7284   \n",
              "2  161.6557   54.0583  ...  135.0394  150.2309   66.9002   74.4386  149.4587   \n",
              "3  162.7518   66.0300  ...  128.5643  154.5459   70.1861   78.8462  151.7044   \n",
              "4  138.6787   39.0350  ...  111.9879  119.2236   72.4155  101.9528  111.5911   \n",
              "\n",
              "   angle_23  angle_24  angle_25  angle_26  letter_index  \n",
              "0  118.6069   32.2851  117.1271  132.3477            12  \n",
              "1  118.6226   25.9838   96.6642  108.5871            12  \n",
              "2  144.8678   24.3774   84.6601   99.7746            12  \n",
              "3  158.3340   25.9777   83.6245  103.4728            12  \n",
              "4  117.1723   48.9192  104.3864  133.6194            12  \n",
              "\n",
              "[5 rows x 27 columns]"
            ],
            "text/html": [
              "\n",
              "  <div id=\"df-653c86e4-83d8-40ab-886a-9d40e0bd5cd2\">\n",
              "    <div class=\"colab-df-container\">\n",
              "      <div>\n",
              "<style scoped>\n",
              "    .dataframe tbody tr th:only-of-type {\n",
              "        vertical-align: middle;\n",
              "    }\n",
              "\n",
              "    .dataframe tbody tr th {\n",
              "        vertical-align: top;\n",
              "    }\n",
              "\n",
              "    .dataframe thead th {\n",
              "        text-align: right;\n",
              "    }\n",
              "</style>\n",
              "<table border=\"1\" class=\"dataframe\">\n",
              "  <thead>\n",
              "    <tr style=\"text-align: right;\">\n",
              "      <th></th>\n",
              "      <th>angle_1</th>\n",
              "      <th>angle_2</th>\n",
              "      <th>angle_3</th>\n",
              "      <th>angle_4</th>\n",
              "      <th>angle_5</th>\n",
              "      <th>angle_6</th>\n",
              "      <th>angle_7</th>\n",
              "      <th>angle_8</th>\n",
              "      <th>angle_9</th>\n",
              "      <th>angle_10</th>\n",
              "      <th>...</th>\n",
              "      <th>angle_18</th>\n",
              "      <th>angle_19</th>\n",
              "      <th>angle_20</th>\n",
              "      <th>angle_21</th>\n",
              "      <th>angle_22</th>\n",
              "      <th>angle_23</th>\n",
              "      <th>angle_24</th>\n",
              "      <th>angle_25</th>\n",
              "      <th>angle_26</th>\n",
              "      <th>letter_index</th>\n",
              "    </tr>\n",
              "  </thead>\n",
              "  <tbody>\n",
              "    <tr>\n",
              "      <th>0</th>\n",
              "      <td>140.6825</td>\n",
              "      <td>138.6096</td>\n",
              "      <td>82.5662</td>\n",
              "      <td>134.6193</td>\n",
              "      <td>49.5453</td>\n",
              "      <td>54.1041</td>\n",
              "      <td>103.6704</td>\n",
              "      <td>70.5126</td>\n",
              "      <td>143.0883</td>\n",
              "      <td>39.2620</td>\n",
              "      <td>...</td>\n",
              "      <td>96.6114</td>\n",
              "      <td>145.5212</td>\n",
              "      <td>70.0778</td>\n",
              "      <td>72.6412</td>\n",
              "      <td>147.0387</td>\n",
              "      <td>118.6069</td>\n",
              "      <td>32.2851</td>\n",
              "      <td>117.1271</td>\n",
              "      <td>132.3477</td>\n",
              "      <td>12</td>\n",
              "    </tr>\n",
              "    <tr>\n",
              "      <th>1</th>\n",
              "      <td>110.3875</td>\n",
              "      <td>156.0532</td>\n",
              "      <td>77.7073</td>\n",
              "      <td>153.8643</td>\n",
              "      <td>21.5293</td>\n",
              "      <td>43.6715</td>\n",
              "      <td>90.5790</td>\n",
              "      <td>61.4209</td>\n",
              "      <td>157.0069</td>\n",
              "      <td>54.6405</td>\n",
              "      <td>...</td>\n",
              "      <td>118.7182</td>\n",
              "      <td>154.1008</td>\n",
              "      <td>70.0738</td>\n",
              "      <td>72.7123</td>\n",
              "      <td>152.7284</td>\n",
              "      <td>118.6226</td>\n",
              "      <td>25.9838</td>\n",
              "      <td>96.6642</td>\n",
              "      <td>108.5871</td>\n",
              "      <td>12</td>\n",
              "    </tr>\n",
              "    <tr>\n",
              "      <th>2</th>\n",
              "      <td>111.6315</td>\n",
              "      <td>161.0923</td>\n",
              "      <td>86.5375</td>\n",
              "      <td>166.9085</td>\n",
              "      <td>25.5835</td>\n",
              "      <td>60.9043</td>\n",
              "      <td>82.4694</td>\n",
              "      <td>58.3139</td>\n",
              "      <td>161.6557</td>\n",
              "      <td>54.0583</td>\n",
              "      <td>...</td>\n",
              "      <td>135.0394</td>\n",
              "      <td>150.2309</td>\n",
              "      <td>66.9002</td>\n",
              "      <td>74.4386</td>\n",
              "      <td>149.4587</td>\n",
              "      <td>144.8678</td>\n",
              "      <td>24.3774</td>\n",
              "      <td>84.6601</td>\n",
              "      <td>99.7746</td>\n",
              "      <td>12</td>\n",
              "    </tr>\n",
              "    <tr>\n",
              "      <th>3</th>\n",
              "      <td>92.5972</td>\n",
              "      <td>151.9683</td>\n",
              "      <td>73.5278</td>\n",
              "      <td>159.4617</td>\n",
              "      <td>18.3568</td>\n",
              "      <td>52.0441</td>\n",
              "      <td>84.1361</td>\n",
              "      <td>62.8711</td>\n",
              "      <td>162.7518</td>\n",
              "      <td>66.0300</td>\n",
              "      <td>...</td>\n",
              "      <td>128.5643</td>\n",
              "      <td>154.5459</td>\n",
              "      <td>70.1861</td>\n",
              "      <td>78.8462</td>\n",
              "      <td>151.7044</td>\n",
              "      <td>158.3340</td>\n",
              "      <td>25.9777</td>\n",
              "      <td>83.6245</td>\n",
              "      <td>103.4728</td>\n",
              "      <td>12</td>\n",
              "    </tr>\n",
              "    <tr>\n",
              "      <th>4</th>\n",
              "      <td>138.5490</td>\n",
              "      <td>148.9741</td>\n",
              "      <td>85.1078</td>\n",
              "      <td>140.7145</td>\n",
              "      <td>57.3207</td>\n",
              "      <td>64.9777</td>\n",
              "      <td>94.1715</td>\n",
              "      <td>64.6605</td>\n",
              "      <td>138.6787</td>\n",
              "      <td>39.0350</td>\n",
              "      <td>...</td>\n",
              "      <td>111.9879</td>\n",
              "      <td>119.2236</td>\n",
              "      <td>72.4155</td>\n",
              "      <td>101.9528</td>\n",
              "      <td>111.5911</td>\n",
              "      <td>117.1723</td>\n",
              "      <td>48.9192</td>\n",
              "      <td>104.3864</td>\n",
              "      <td>133.6194</td>\n",
              "      <td>12</td>\n",
              "    </tr>\n",
              "  </tbody>\n",
              "</table>\n",
              "<p>5 rows × 27 columns</p>\n",
              "</div>\n",
              "      <button class=\"colab-df-convert\" onclick=\"convertToInteractive('df-653c86e4-83d8-40ab-886a-9d40e0bd5cd2')\"\n",
              "              title=\"Convert this dataframe to an interactive table.\"\n",
              "              style=\"display:none;\">\n",
              "        \n",
              "  <svg xmlns=\"http://www.w3.org/2000/svg\" height=\"24px\"viewBox=\"0 0 24 24\"\n",
              "       width=\"24px\">\n",
              "    <path d=\"M0 0h24v24H0V0z\" fill=\"none\"/>\n",
              "    <path d=\"M18.56 5.44l.94 2.06.94-2.06 2.06-.94-2.06-.94-.94-2.06-.94 2.06-2.06.94zm-11 1L8.5 8.5l.94-2.06 2.06-.94-2.06-.94L8.5 2.5l-.94 2.06-2.06.94zm10 10l.94 2.06.94-2.06 2.06-.94-2.06-.94-.94-2.06-.94 2.06-2.06.94z\"/><path d=\"M17.41 7.96l-1.37-1.37c-.4-.4-.92-.59-1.43-.59-.52 0-1.04.2-1.43.59L10.3 9.45l-7.72 7.72c-.78.78-.78 2.05 0 2.83L4 21.41c.39.39.9.59 1.41.59.51 0 1.02-.2 1.41-.59l7.78-7.78 2.81-2.81c.8-.78.8-2.07 0-2.86zM5.41 20L4 18.59l7.72-7.72 1.47 1.35L5.41 20z\"/>\n",
              "  </svg>\n",
              "      </button>\n",
              "      \n",
              "  <style>\n",
              "    .colab-df-container {\n",
              "      display:flex;\n",
              "      flex-wrap:wrap;\n",
              "      gap: 12px;\n",
              "    }\n",
              "\n",
              "    .colab-df-convert {\n",
              "      background-color: #E8F0FE;\n",
              "      border: none;\n",
              "      border-radius: 50%;\n",
              "      cursor: pointer;\n",
              "      display: none;\n",
              "      fill: #1967D2;\n",
              "      height: 32px;\n",
              "      padding: 0 0 0 0;\n",
              "      width: 32px;\n",
              "    }\n",
              "\n",
              "    .colab-df-convert:hover {\n",
              "      background-color: #E2EBFA;\n",
              "      box-shadow: 0px 1px 2px rgba(60, 64, 67, 0.3), 0px 1px 3px 1px rgba(60, 64, 67, 0.15);\n",
              "      fill: #174EA6;\n",
              "    }\n",
              "\n",
              "    [theme=dark] .colab-df-convert {\n",
              "      background-color: #3B4455;\n",
              "      fill: #D2E3FC;\n",
              "    }\n",
              "\n",
              "    [theme=dark] .colab-df-convert:hover {\n",
              "      background-color: #434B5C;\n",
              "      box-shadow: 0px 1px 3px 1px rgba(0, 0, 0, 0.15);\n",
              "      filter: drop-shadow(0px 1px 2px rgba(0, 0, 0, 0.3));\n",
              "      fill: #FFFFFF;\n",
              "    }\n",
              "  </style>\n",
              "\n",
              "      <script>\n",
              "        const buttonEl =\n",
              "          document.querySelector('#df-653c86e4-83d8-40ab-886a-9d40e0bd5cd2 button.colab-df-convert');\n",
              "        buttonEl.style.display =\n",
              "          google.colab.kernel.accessAllowed ? 'block' : 'none';\n",
              "\n",
              "        async function convertToInteractive(key) {\n",
              "          const element = document.querySelector('#df-653c86e4-83d8-40ab-886a-9d40e0bd5cd2');\n",
              "          const dataTable =\n",
              "            await google.colab.kernel.invokeFunction('convertToInteractive',\n",
              "                                                     [key], {});\n",
              "          if (!dataTable) return;\n",
              "\n",
              "          const docLinkHtml = 'Like what you see? Visit the ' +\n",
              "            '<a target=\"_blank\" href=https://colab.research.google.com/notebooks/data_table.ipynb>data table notebook</a>'\n",
              "            + ' to learn more about interactive tables.';\n",
              "          element.innerHTML = '';\n",
              "          dataTable['output_type'] = 'display_data';\n",
              "          await google.colab.output.renderOutput(dataTable, element);\n",
              "          const docLink = document.createElement('div');\n",
              "          docLink.innerHTML = docLinkHtml;\n",
              "          element.appendChild(docLink);\n",
              "        }\n",
              "      </script>\n",
              "    </div>\n",
              "  </div>\n",
              "  "
            ]
          },
          "metadata": {},
          "execution_count": 9
        }
      ]
    },
    {
      "cell_type": "code",
      "source": [
        "df1['letter_index'].unique"
      ],
      "metadata": {
        "colab": {
          "base_uri": "https://localhost:8080/"
        },
        "id": "gcJbfSrx2ZaD",
        "outputId": "78b0890d-6f2f-4fa1-9662-d4ccf89a11ef"
      },
      "execution_count": 10,
      "outputs": [
        {
          "output_type": "execute_result",
          "data": {
            "text/plain": [
              "<bound method Series.unique of 0       12\n",
              "1       12\n",
              "2       12\n",
              "3       12\n",
              "4       12\n",
              "        ..\n",
              "7259    24\n",
              "7260    24\n",
              "7261    24\n",
              "7262    24\n",
              "7263    24\n",
              "Name: letter_index, Length: 7264, dtype: int64>"
            ]
          },
          "metadata": {},
          "execution_count": 10
        }
      ]
    },
    {
      "cell_type": "code",
      "source": [
        "train, test = train_test_split(df1, test_size=0.3, random_state=78, shuffle=True)\n",
        "train_data=train.iloc[:,0:26]\n",
        "train_label=train.iloc[:,-1]\n",
        "test_data=test.iloc[:,0:26]\n",
        "test_label=test.iloc[:,-1]"
      ],
      "metadata": {
        "id": "8EoznUhp2ZXS"
      },
      "execution_count": 11,
      "outputs": []
    },
    {
      "cell_type": "code",
      "source": [
        "test_out = LabelBinarizer().fit_transform(test_label)\n",
        "train_out=LabelBinarizer().fit_transform(train_label)"
      ],
      "metadata": {
        "id": "yftyA2zU3bRD"
      },
      "execution_count": 12,
      "outputs": []
    },
    {
      "cell_type": "code",
      "source": [
        "scaler = StandardScaler()\n",
        "train_data = scaler.fit_transform(train_data)"
      ],
      "metadata": {
        "id": "0zEQi4mx3bPC"
      },
      "execution_count": 13,
      "outputs": []
    },
    {
      "cell_type": "code",
      "source": [
        "test_data = scaler.fit_transform(test_data)"
      ],
      "metadata": {
        "id": "EC0K77273bMr"
      },
      "execution_count": 14,
      "outputs": []
    },
    {
      "cell_type": "code",
      "source": [
        "model=tf.keras.Sequential([\n",
        "                            tf.keras.layers.Dense(80, input_dim= 26,activation='relu'),\n",
        "                           tf.keras.layers.Dense(160, activation='relu'),  \n",
        "                           tf.keras.layers.BatchNormalization(), #51\n",
        "                          #  tf.keras.layers.Dense(400, activation='relu'),  \n",
        "                          #  tf.keras.layers.Dropout(.2),\n",
        "                           tf.keras.layers.Dense(256, activation='relu'),  \n",
        "                           tf.keras.layers.BatchNormalization(), #66\n",
        "                          #  tf.keras.layers.Dropout(.2),\n",
        "                           \n",
        "                           tf.keras.layers.Dense(128, activation='relu'),  \n",
        "                          #  tf.keras.layers.BatchNormalization(), #69\n",
        "                           tf.keras.layers.Dense(64, activation='relu'),  \n",
        "                          #  tf.keras.layers.BatchNormalization(), #63\n",
        "                           tf.keras.layers.Dense(24),\n",
        "                           tf.keras.layers.Softmax()\n",
        "])"
      ],
      "metadata": {
        "id": "s9OzAAB73bKb"
      },
      "execution_count": 15,
      "outputs": []
    },
    {
      "cell_type": "code",
      "source": [
        "model.compile(\n",
        "    optimizer='adam',\n",
        "    loss=tf.keras.losses.CategoricalCrossentropy(),\n",
        "    metrics=['accuracy']\n",
        ")"
      ],
      "metadata": {
        "id": "IcicVBjy3bIS"
      },
      "execution_count": 16,
      "outputs": []
    },
    {
      "cell_type": "code",
      "source": [
        "history = model.fit(train_data, train_out, epochs=20)\n",
        "\n",
        "import matplotlib.pyplot as plt\n",
        "print(history.history.keys())\n",
        "# summarize history for accuracy\n",
        "plt.plot(history.history['accuracy'])\n",
        "#plt.plot(history.history['val_accuracy'])\n",
        "plt.title('model accuracy')\n",
        "plt.ylabel('accuracy')\n",
        "plt.xlabel('epoch')\n",
        "plt.legend(['train', 'test'], loc='upper left')\n",
        "plt.show()\n",
        "# summarize history for loss\n",
        "plt.plot(history.history['loss'])\n",
        "#plt.plot(history.history['val_loss'])\n",
        "plt.title('model loss')\n",
        "plt.ylabel('loss')\n",
        "plt.xlabel('epoch')\n",
        "plt.legend(['train', 'test'], loc='upper left')\n",
        "plt.show()"
      ],
      "metadata": {
        "colab": {
          "base_uri": "https://localhost:8080/",
          "height": 1000
        },
        "id": "X879XCGP3bFy",
        "outputId": "e80481f4-299c-4fc4-b495-fdab6806f86b"
      },
      "execution_count": 17,
      "outputs": [
        {
          "output_type": "stream",
          "name": "stdout",
          "text": [
            "Epoch 1/20\n",
            "159/159 [==============================] - 2s 4ms/step - loss: 0.8107 - accuracy: 0.7970\n",
            "Epoch 2/20\n",
            "159/159 [==============================] - 1s 5ms/step - loss: 0.2966 - accuracy: 0.9156\n",
            "Epoch 3/20\n",
            "159/159 [==============================] - 1s 7ms/step - loss: 0.2115 - accuracy: 0.9367\n",
            "Epoch 4/20\n",
            "159/159 [==============================] - 1s 8ms/step - loss: 0.1549 - accuracy: 0.9512\n",
            "Epoch 5/20\n",
            "159/159 [==============================] - 1s 8ms/step - loss: 0.1473 - accuracy: 0.9548\n",
            "Epoch 6/20\n",
            "159/159 [==============================] - 1s 9ms/step - loss: 0.1065 - accuracy: 0.9677\n",
            "Epoch 7/20\n",
            "159/159 [==============================] - 1s 8ms/step - loss: 0.1042 - accuracy: 0.9687\n",
            "Epoch 8/20\n",
            "159/159 [==============================] - 1s 5ms/step - loss: 0.1003 - accuracy: 0.9689\n",
            "Epoch 9/20\n",
            "159/159 [==============================] - 1s 6ms/step - loss: 0.0796 - accuracy: 0.9758\n",
            "Epoch 10/20\n",
            "159/159 [==============================] - 1s 8ms/step - loss: 0.0742 - accuracy: 0.9766\n",
            "Epoch 11/20\n",
            "159/159 [==============================] - 1s 7ms/step - loss: 0.0599 - accuracy: 0.9807\n",
            "Epoch 12/20\n",
            "159/159 [==============================] - 1s 7ms/step - loss: 0.0672 - accuracy: 0.9762\n",
            "Epoch 13/20\n",
            "159/159 [==============================] - 1s 7ms/step - loss: 0.0873 - accuracy: 0.9695\n",
            "Epoch 14/20\n",
            "159/159 [==============================] - 1s 7ms/step - loss: 0.0620 - accuracy: 0.9807\n",
            "Epoch 15/20\n",
            "159/159 [==============================] - 1s 7ms/step - loss: 0.0473 - accuracy: 0.9827\n",
            "Epoch 16/20\n",
            "159/159 [==============================] - 1s 6ms/step - loss: 0.0597 - accuracy: 0.9823\n",
            "Epoch 17/20\n",
            "159/159 [==============================] - 1s 7ms/step - loss: 0.0564 - accuracy: 0.9821\n",
            "Epoch 18/20\n",
            "159/159 [==============================] - 1s 8ms/step - loss: 0.0607 - accuracy: 0.9843\n",
            "Epoch 19/20\n",
            "159/159 [==============================] - 1s 8ms/step - loss: 0.0582 - accuracy: 0.9823\n",
            "Epoch 20/20\n",
            "159/159 [==============================] - 1s 7ms/step - loss: 0.0474 - accuracy: 0.9829\n",
            "dict_keys(['loss', 'accuracy'])\n"
          ]
        },
        {
          "output_type": "display_data",
          "data": {
            "text/plain": [
              "<Figure size 432x288 with 1 Axes>"
            ],
            "image/png": "[encoded data removed]"
          },
          "metadata": {
            "needs_background": "light"
          }
        },
        {
          "output_type": "display_data",
          "data": {
            "text/plain": [
              "<Figure size 432x288 with 1 Axes>"
            ],
            "image/png": "[encoded data removed]"
          },
          "metadata": {
            "needs_background": "light"
          }
        }
      ]
    },
    {
      "cell_type": "code",
      "source": [
        "test=model.evaluate(test_data, test_out, verbose=1)\n",
        "print('model loss : ', test[0])\n",
        "print('model accuracy : ', test[1]*100, ' %')"
      ],
      "metadata": {
        "colab": {
          "base_uri": "https://localhost:8080/"
        },
        "id": "dS-ibuWk3apz",
        "outputId": "acff50d8-2697-48b8-be8c-bb13a5e9d3ec"
      },
      "execution_count": 18,
      "outputs": [
        {
          "output_type": "stream",
          "name": "stdout",
          "text": [
            "69/69 [==============================] - 0s 2ms/step - loss: 0.3793 - accuracy: 0.9399\n",
            "model loss :  0.3792682886123657\n",
            "model accuracy :  93.99082660675049  %\n"
          ]
        }
      ]
    },
    {
      "cell_type": "code",
      "source": [
        "prediction=model.predict(test_data)"
      ],
      "metadata": {
        "id": "YwNbjyin31Cr"
      },
      "execution_count": 19,
      "outputs": []
    },
    {
      "cell_type": "code",
      "source": [
        "test_label.iloc[12]"
      ],
      "metadata": {
        "colab": {
          "base_uri": "https://localhost:8080/"
        },
        "id": "bqQ8aDJB309j",
        "outputId": "43455a19-d671-4c25-fd6c-a7bd92ad24dd"
      },
      "execution_count": 20,
      "outputs": [
        {
          "output_type": "execute_result",
          "data": {
            "text/plain": [
              "10"
            ]
          },
          "metadata": {},
          "execution_count": 20
        }
      ]
    },
    {
      "cell_type": "code",
      "source": [
        "pred=prediction[12]"
      ],
      "metadata": {
        "id": "m04UaR1t35Qr"
      },
      "execution_count": 21,
      "outputs": []
    },
    {
      "cell_type": "code",
      "source": [
        "np.argmax(pred)"
      ],
      "metadata": {
        "colab": {
          "base_uri": "https://localhost:8080/"
        },
        "id": "jgV8aTUS35OL",
        "outputId": "3c69eb0a-a516-4d6c-98e4-951d67190bac"
      },
      "execution_count": 22,
      "outputs": [
        {
          "output_type": "execute_result",
          "data": {
            "text/plain": [
              "9"
            ]
          },
          "metadata": {},
          "execution_count": 22
        }
      ]
    },
    {
      "cell_type": "code",
      "source": [
        "import random\n",
        "ctr = 0\n",
        "for i in range(0, len(test_label)):\n",
        "  pos=random.randint(0, 150)\n",
        "  t=test_label.iloc[pos]\n",
        "  p=np.argmax(prediction[pos])\n",
        "  if p > 8 :\n",
        "    p = p + 1\n",
        "  if t != p:\n",
        "    ctr += 1\n",
        "    print('test', t, 'predicted', p)\n",
        "\n",
        "print(ctr)"
      ],
      "metadata": {
        "colab": {
          "base_uri": "https://localhost:8080/"
        },
        "id": "cJaW-eIJ6rQE",
        "outputId": "5d040521-93aa-484f-ff3c-2544ab6545e8"
      },
      "execution_count": 28,
      "outputs": [
        {
          "output_type": "stream",
          "name": "stdout",
          "text": [
            "test 1 predicted 2\n",
            "test 21 predicted 23\n",
            "test 16 predicted 3\n",
            "test 16 predicted 3\n",
            "test 16 predicted 14\n",
            "test 16 predicted 14\n",
            "test 21 predicted 23\n",
            "test 11 predicted 0\n",
            "test 16 predicted 3\n",
            "test 1 predicted 2\n",
            "test 21 predicted 23\n",
            "test 16 predicted 14\n",
            "test 15 predicted 3\n",
            "test 15 predicted 3\n",
            "test 16 predicted 14\n",
            "test 11 predicted 0\n",
            "test 21 predicted 23\n",
            "test 11 predicted 0\n",
            "test 21 predicted 23\n",
            "test 1 predicted 2\n",
            "test 15 predicted 3\n",
            "test 11 predicted 0\n",
            "test 16 predicted 3\n",
            "test 21 predicted 23\n",
            "test 11 predicted 0\n",
            "test 16 predicted 3\n",
            "test 17 predicted 3\n",
            "test 15 predicted 3\n",
            "test 16 predicted 14\n",
            "test 17 predicted 3\n",
            "test 16 predicted 14\n",
            "test 16 predicted 3\n",
            "test 15 predicted 3\n",
            "test 15 predicted 3\n",
            "test 17 predicted 3\n",
            "test 1 predicted 2\n",
            "test 15 predicted 3\n",
            "test 17 predicted 3\n",
            "test 16 predicted 14\n",
            "test 1 predicted 2\n",
            "test 17 predicted 3\n",
            "test 11 predicted 0\n",
            "test 11 predicted 0\n",
            "test 11 predicted 0\n",
            "test 17 predicted 3\n",
            "test 15 predicted 3\n",
            "test 11 predicted 0\n",
            "test 15 predicted 3\n",
            "test 15 predicted 3\n",
            "test 11 predicted 0\n",
            "test 15 predicted 3\n",
            "test 1 predicted 2\n",
            "test 16 predicted 3\n",
            "test 16 predicted 3\n",
            "test 16 predicted 3\n",
            "test 15 predicted 3\n",
            "test 17 predicted 3\n",
            "test 11 predicted 0\n",
            "test 1 predicted 2\n",
            "test 15 predicted 3\n",
            "test 16 predicted 3\n",
            "test 21 predicted 23\n",
            "test 21 predicted 23\n",
            "test 21 predicted 23\n",
            "test 16 predicted 3\n",
            "test 16 predicted 14\n",
            "test 16 predicted 14\n",
            "test 15 predicted 3\n",
            "test 16 predicted 3\n",
            "test 21 predicted 23\n",
            "test 16 predicted 14\n",
            "test 15 predicted 3\n",
            "test 1 predicted 2\n",
            "test 17 predicted 3\n",
            "test 11 predicted 0\n",
            "test 11 predicted 0\n",
            "test 17 predicted 3\n",
            "test 11 predicted 0\n",
            "test 16 predicted 3\n",
            "test 16 predicted 14\n",
            "test 15 predicted 3\n",
            "test 11 predicted 0\n",
            "test 17 predicted 3\n",
            "test 21 predicted 23\n",
            "test 15 predicted 3\n",
            "test 1 predicted 2\n",
            "test 11 predicted 0\n",
            "test 1 predicted 2\n",
            "test 11 predicted 0\n",
            "test 16 predicted 3\n",
            "test 21 predicted 23\n",
            "test 15 predicted 3\n",
            "test 15 predicted 3\n",
            "test 16 predicted 3\n",
            "test 11 predicted 0\n",
            "test 1 predicted 2\n",
            "test 21 predicted 23\n",
            "test 16 predicted 14\n",
            "test 15 predicted 3\n",
            "test 1 predicted 2\n",
            "test 17 predicted 3\n",
            "test 17 predicted 3\n",
            "test 16 predicted 3\n",
            "test 21 predicted 23\n",
            "104\n"
          ]
        }
      ]
    },
    {
      "cell_type": "code",
      "source": [
        "len(test_label)"
      ],
      "metadata": {
        "colab": {
          "base_uri": "https://localhost:8080/"
        },
        "id": "deN_XRH274Lc",
        "outputId": "3459cf9e-9a8c-4a7b-ab63-123ad04efc6c"
      },
      "execution_count": 29,
      "outputs": [
        {
          "output_type": "execute_result",
          "data": {
            "text/plain": [
              "2180"
            ]
          },
          "metadata": {},
          "execution_count": 29
        }
      ]
    },
    {
      "cell_type": "code",
      "source": [
        "print(ctr/len(test_label)*100)"
      ],
      "metadata": {
        "colab": {
          "base_uri": "https://localhost:8080/"
        },
        "id": "chaCEK8W-1f0",
        "outputId": "a845177c-5896-45fb-e72b-bf099cbba4ba"
      },
      "execution_count": 30,
      "outputs": [
        {
          "output_type": "stream",
          "name": "stdout",
          "text": [
            "4.770642201834862\n"
          ]
        }
      ]
    },
    {
      "cell_type": "code",
      "source": [
        ""
      ],
      "metadata": {
        "id": "hkbBfxv--8al"
      },
      "execution_count": 25,
      "outputs": []
    }
  ]
}