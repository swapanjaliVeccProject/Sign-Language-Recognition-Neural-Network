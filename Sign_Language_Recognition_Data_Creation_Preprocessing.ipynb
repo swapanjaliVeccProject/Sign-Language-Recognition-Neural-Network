{
  "nbformat": 4,
  "nbformat_minor": 0,
  "metadata": {
    "colab": {
      "name": "Sign_Language_Recognition_Data_Creation_Preprocessing",
      "provenance": [],
      "authorship_tag": "ABX9TyPSkINQostYdEEEsBEw4DlI",
      "include_colab_link": true
    },
    "kernelspec": {
      "name": "python3",
      "display_name": "Python 3"
    },
    "language_info": {
      "name": "python"
    }
  },
  "cells": [
    {
      "cell_type": "markdown",
      "metadata": {
        "id": "view-in-github",
        "colab_type": "text"
      },
      "source": [
        "<a href=\"https://colab.research.google.com/github/swapanjaliVeccProject/Sign-Language-Recognition-Neural-Network/blob/main/Sign_Language_Recognition_Data_Creation_Preprocessing.ipynb\" target=\"_parent\"><img src=\"https://colab.research.google.com/assets/colab-badge.svg\" alt=\"Open In Colab\"/></a>"
      ]
    },
    {
      "cell_type": "markdown",
      "source": [
        "# Importing Necessary Libraries"
      ],
      "metadata": {
        "id": "7riqq9WyFlsi"
      }
    },
    {
      "cell_type": "code",
      "execution_count": null,
      "metadata": {
        "id": "wHWkaMvxBdSI"
      },
      "outputs": [],
      "source": [
        "!pip install mediapipe"
      ]
    },
    {
      "cell_type": "code",
      "source": [
        "import cv2\n",
        "from google.colab.patches import cv2_imshow\n",
        "import math\n",
        "import numpy as np\n",
        "import os \n",
        "import glob\n",
        "import mediapipe as mp\n",
        "import matplotlib.pyplot as plt\n",
        "from google.colab.patches import cv2_imshow\n",
        "import csv\n",
        "import pandas as pd\n",
        "import math"
      ],
      "metadata": {
        "id": "fx1K2TwLFX93"
      },
      "execution_count": null,
      "outputs": []
    },
    {
      "cell_type": "markdown",
      "source": [
        "# Downloading & Unzipping the Dataset"
      ],
      "metadata": {
        "id": "SURIM4t4FwvI"
      }
    },
    {
      "cell_type": "code",
      "source": [
        "!wget  http://www.cvssp.org/FingerSpellingKinect2011/fingerspelling5.tar.bz2"
      ],
      "metadata": {
        "id": "mL8J1hb8Bxsg"
      },
      "execution_count": null,
      "outputs": []
    },
    {
      "cell_type": "code",
      "source": [
        "!tar -xvf /content/fingerspelling5.tar.bz2      #[run this cell to extract tar.bz2 files]"
      ],
      "metadata": {
        "id": "d8xMl0CpBzAH"
      },
      "execution_count": null,
      "outputs": []
    },
    {
      "cell_type": "markdown",
      "source": [
        "# Selecting `n` images from the directory and resizing to 64px while maintaining Aspect Ratio"
      ],
      "metadata": {
        "id": "4O-ETghlF3rp"
      }
    },
    {
      "cell_type": "code",
      "source": [
        "imagelist=[]\n",
        "\n",
        "ctr = 1\n",
        "for dir in os.listdir('/content/dataset5'):\n",
        "  path='/content/dataset5/'+str(dir)\n",
        "  for subdir in os.listdir(path):\n",
        "    subpath=path+'/'+str(subdir)\n",
        "    for name in glob.glob(subpath+'/color_?*'):\n",
        "      if ctr <= 64: #n\n",
        "        imagelist.append(name)\n",
        "        ctr += 1\n",
        "    ctr=1;\n",
        "\n",
        "DESIRED_HEIGHT = 64\n",
        "DESIRED_WIDTH = 64\n",
        "def resize_and_show(image):\n",
        "  h, w = image.shape[:2]\n",
        "  if h < w:\n",
        "    img = cv2.resize(image, (DESIRED_WIDTH, math.floor(h/(w/DESIRED_WIDTH))))\n",
        "  else:\n",
        "    img = cv2.resize(image, (math.floor(w/(h/DESIRED_HEIGHT)), DESIRED_HEIGHT))\n",
        "  cv2.imwrite()\n",
        "\n",
        "\n",
        "# Read images with OpenCV.\n",
        "images = {name: cv2.imread(name) for name in imagelist}\n",
        "# Preview the images.\n",
        "for name, image in images.items():\n",
        "  h, w = image.shape[:2]\n",
        "  if h < w:\n",
        "    img = cv2.resize(image, (DESIRED_WIDTH, math.floor(h/(w/DESIRED_WIDTH))))\n",
        "  else:\n",
        "    img = cv2.resize(image, (math.floor(w/(h/DESIRED_HEIGHT)), DESIRED_HEIGHT))\n",
        "  cv2.imwrite(name,img)"
      ],
      "metadata": {
        "id": "v5iTrIZkB2Cn"
      },
      "execution_count": null,
      "outputs": []
    },
    {
      "cell_type": "code",
      "source": [
        "print(len(imagelist))\n",
        "print(len(images))"
      ],
      "metadata": {
        "id": "VtBXKsksB9aZ"
      },
      "execution_count": null,
      "outputs": []
    },
    {
      "cell_type": "code",
      "source": [
        "for name, image in images.items():\n",
        "  h, w = image.shape[:2]\n",
        "  print(h,w)"
      ],
      "metadata": {
        "id": "iMXitJKdB9X3"
      },
      "execution_count": null,
      "outputs": []
    },
    {
      "cell_type": "markdown",
      "source": [
        "# Using Mediapipe to Annotate the 21 Hand Landmarks\n",
        "\n",
        "## Saving the coordinates in a CSV File"
      ],
      "metadata": {
        "id": "b0q0n5FnGQRB"
      }
    },
    {
      "cell_type": "code",
      "source": [
        "mp_hands = mp.solutions.hands\n",
        "mp_drawing = mp.solutions.drawing_utils\n",
        "mp_drawing_styles = mp.solutions.drawing_styles"
      ],
      "metadata": {
        "id": "urZetSLhB9Vj"
      },
      "execution_count": null,
      "outputs": []
    },
    {
      "cell_type": "code",
      "source": [
        "plt.imshow(cv2.flip(image[:,:,::-1],1));plt.show()"
      ],
      "metadata": {
        "id": "6bJ9rOjbB9S3"
      },
      "execution_count": null,
      "outputs": []
    },
    {
      "cell_type": "code",
      "source": [
        "mp_hands = mp.solutions.hands\n",
        "model=mp_hands.Hands(\n",
        "    static_image_mode=True,\n",
        "    max_num_hands=2,\n",
        "    min_detection_confidence=0.2)\n",
        "\n",
        "for name, image in images.items():\n",
        "  results = model.process(cv2.flip(cv2.cvtColor(image, cv2.COLOR_BGR2RGB), 1))\n",
        "  print('Handedness:', results.multi_handedness)\n",
        "  # print(name)\n",
        "  if not results.multi_hand_landmarks:\n",
        "    # print(\"no hand detected\")\n",
        "    continue\n",
        "  image_height, image_width, _ = image.shape\n",
        "  annotated_image = cv2.flip(image.copy(),1)\n",
        "\n",
        "  new_list = []\n",
        "  for hand_landmarks in results.multi_hand_landmarks:\n",
        "    for point in mp_hands.HandLandmark:\n",
        "      print(point, point.value)\n",
        "      if point.value in [0,1,2,3,4,5,6,7,8,9,10,11,12,13,14,15,16,17,18,19,20]:\n",
        "        normalizedLandmark = hand_landmarks.landmark[point]\n",
        "        pixelCoordinatesLandmark = mp_drawing._normalized_to_pixel_coordinates(normalizedLandmark.x, normalizedLandmark.y, image_width, image_height)\n",
        "        cv2.circle(annotated_image, pixelCoordinatesLandmark, 1, (0, 255, 0), -1)\n",
        "        if point.value == 20:\n",
        "          cv2_imshow(annotated_image)\n",
        "\n",
        "        # print('hand_landmarks:', normalizedLandmark)\n",
        "        new_list.append([name,point,point.value,normalizedLandmark.x,normalizedLandmark.y,normalizedLandmark.z])\n",
        "\n",
        "  with open('Detected_Image_Data_64.csv','a') as f:\n",
        "    write = csv.writer(f)\n",
        "    write.writerows(new_list)"
      ],
      "metadata": {
        "id": "vOShM0AFB9QH"
      },
      "execution_count": null,
      "outputs": []
    },
    {
      "cell_type": "markdown",
      "source": [
        "# Finding the Angles between the Adjacent Landmarks\n",
        "\n",
        "## Saving the Data in a CSV File"
      ],
      "metadata": {
        "id": "nlqD9xsoGeFZ"
      }
    },
    {
      "cell_type": "code",
      "source": [
        "df = pd.read_csv('/content/Detected_Image_Data_64.csv')\n",
        "df.columns=['name', 'landmark', 'points', 'x', 'y', 'z']\n",
        "print(df.iloc[4321,])"
      ],
      "metadata": {
        "id": "V8CJBTQgB9Nv"
      },
      "execution_count": null,
      "outputs": []
    },
    {
      "cell_type": "code",
      "source": [
        "adjacent_nodes = [(0,1),(1,2),(2,3),(3,4),(0,5),(5,6),(6,7),(7,8),(5,9),(9,10),(10,11),(11,12),(9,13),(13,14),(14,15),(15,16),(17,18),(18,19),(19,20),(0,17),(13,17)]\n",
        "adj_list=[]\n",
        "for item in adjacent_nodes:\n",
        "  temp_list=[]\n",
        "  temp_list=adjacent_nodes.copy()\n",
        "  temp_list.remove(item)\n",
        "  for rem in temp_list:\n",
        "    if((item[1]==rem[0] and item[0]!=rem[1]) or (item[0]==rem[0] and item[1]!=rem[1]) or (item[1]==rem[1] and item[0]!=rem[0])):\n",
        "      newT=((item[0], item[1]), (rem[0], rem[1]))\n",
        "      adj_list.append(newT)\n",
        "\n",
        "#unique adjacent lists\n",
        "for a in adj_list:\n",
        "  temp_list=[]\n",
        "  temp_list=adj_list.copy()\n",
        "  temp_list.remove(a)\n",
        "  for b in temp_list:\n",
        "    if a[0]==b[1] and a[1]==b[0]:\n",
        "      adj_list.remove(b)"
      ],
      "metadata": {
        "id": "2yBmNIX1B9Lh"
      },
      "execution_count": null,
      "outputs": []
    },
    {
      "cell_type": "code",
      "source": [
        "for i in adj_list:\n",
        "  print(i)\n",
        "\n",
        "print(len(adj_list))"
      ],
      "metadata": {
        "id": "5EZwFbiYB9JX"
      },
      "execution_count": null,
      "outputs": []
    },
    {
      "cell_type": "code",
      "source": [
        "name_list=[]\n",
        "for ind in range(0, df.shape[0]-21, 21):\n",
        "  name_list.append(df.iloc[ind, 0])"
      ],
      "metadata": {
        "id": "zCus_YXmB9HX"
      },
      "execution_count": null,
      "outputs": []
    },
    {
      "cell_type": "code",
      "source": [
        "len(name_list)"
      ],
      "metadata": {
        "id": "9S-H8yq0B9E_"
      },
      "execution_count": null,
      "outputs": []
    },
    {
      "cell_type": "code",
      "source": [
        "ang_list=[]\n",
        "angle_list=[]\n",
        "final_list=[]\n",
        "\n",
        "# Calculating the Angles between the nodes\n",
        "def calculateAngle(x1, y1, z1,x2, y2, z2,x3, y3, z3):   \n",
        "  # Find direction ratio of line AB\n",
        "  ABx = x1 - x2;\n",
        "  ABy = y1 - y2;\n",
        "  ABz = z1 - z2;\n",
        "  # Find direction ratio of line BC\n",
        "  BCx = x3 - x2;\n",
        "  BCy = y3 - y2;\n",
        "  BCz = z3 - z2;\n",
        "  # Find the dotProduct\n",
        "  # of lines AB & BC\n",
        "  dotProduct = (ABx * BCx + ABy * BCy + ABz * BCz);\n",
        "  # Find magnitude of\n",
        "  # line AB and BC\n",
        "  magnitudeAB = (ABx * ABx + ABy * ABy + ABz * ABz);\n",
        "  magnitudeBC = (BCx * BCx + BCy * BCy + BCz * BCz);\n",
        "  # Find the cosine of\n",
        "  # the angle formed\n",
        "  # by line AB and BC\n",
        "  angle = dotProduct;\n",
        "  angle /= math.sqrt(magnitudeAB * magnitudeBC);\n",
        "  # Find angle in radian\n",
        "  # angle = (angle * 180) / 3.14;\n",
        "  return (np.arccos(angle)*180)/3.14\n",
        "\n",
        "\n",
        "for i in range(0,df.shape[0]-21,21):\n",
        "  temp_df=df.iloc[i:i+21,:]\n",
        "  for a in adj_list:\n",
        "\n",
        "    first=a[0][0]\n",
        "    second=a[0][1]\n",
        "    third=a[1][0]\n",
        "    fourth=a[1][1]\n",
        "    x1=temp_df.iloc[first,:].x\n",
        "    y1=temp_df.iloc[first,:].y\n",
        "    z1=temp_df.iloc[first,:].z\n",
        "\n",
        "    x2=temp_df.iloc[second,:].x\n",
        "    y2=temp_df.iloc[second,:].y\n",
        "    z2=temp_df.iloc[second,:].z\n",
        "\n",
        "    x3=temp_df.iloc[third,:].x\n",
        "    y3=temp_df.iloc[third,:].y\n",
        "    z3=temp_df.iloc[third,:].z\n",
        "\n",
        "    x4=temp_df.iloc[fourth,:].x\n",
        "    y4=temp_df.iloc[fourth,:].y\n",
        "    z4=temp_df.iloc[fourth,:].z\n",
        "\n",
        "# Finding the common points and then calculating the angles\n",
        "    if(second == third):\n",
        "      angle=calculateAngle(x1, y1, z1, x2, y2, z2, x4, y4, z4)\n",
        "    elif(first == third):\n",
        "      angle=calculateAngle(x3, y3, z3, x2, y2, z2, x4, y4, z4)\n",
        "    elif(second == fourth):\n",
        "      angle=calculateAngle(x1, y1, z1, x4, y4, z4, x3, y3, z3)\n",
        "\n",
        "    ang_list.append(round(angle, 4))\n",
        "\n",
        "  angle_list.append(ang_list)\n",
        "  ang_list = []\n",
        "\n",
        "print('Angle',len(angle_list))\n",
        "print('Name',len(name_list))\n",
        "\n",
        "for i in range(0, len(name_list)):\n",
        "  final_list.append([name_list[i], angle_list[i]])\n",
        "\n",
        "with open('Angles_Images.csv','a') as f:\n",
        "    write = csv.writer(f)\n",
        "    write.writerows(final_list)"
      ],
      "metadata": {
        "id": "9o5p9SU1B72_"
      },
      "execution_count": null,
      "outputs": []
    },
    {
      "cell_type": "code",
      "source": [
        "print(len(final_list))\n",
        "print(len(angle_list))"
      ],
      "metadata": {
        "id": "W-AAfs7KCYyn"
      },
      "execution_count": null,
      "outputs": []
    },
    {
      "cell_type": "code",
      "source": [
        "print(final_list[0])\n",
        "# print(len(final_list[0][1]))"
      ],
      "metadata": {
        "id": "BX2CIZK7CYtH"
      },
      "execution_count": null,
      "outputs": []
    },
    {
      "cell_type": "code",
      "source": [
        "for i in angle_list:\n",
        "  print(i)\n",
        "\n",
        "print(len(angle_list))"
      ],
      "metadata": {
        "id": "9yHR3KMyCYoO"
      },
      "execution_count": null,
      "outputs": []
    },
    {
      "cell_type": "code",
      "source": [
        "for item in angle_list:\n",
        "  print(len(set(item)))"
      ],
      "metadata": {
        "id": "9O9nsr2BCcHm"
      },
      "execution_count": null,
      "outputs": []
    }
  ]
}